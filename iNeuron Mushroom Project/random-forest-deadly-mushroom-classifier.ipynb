{
 "cells": [
  {
   "cell_type": "markdown",
   "id": "ce996bed",
   "metadata": {
    "papermill": {
     "duration": 0.040845,
     "end_time": "2021-08-03T14:29:58.832709",
     "exception": false,
     "start_time": "2021-08-03T14:29:58.791864",
     "status": "completed"
    },
    "tags": []
   },
   "source": [
    "# Random Forest - Poisonous Mushroom Classifier\n",
    "\n",
    "Have you ever picked up wild mushroom and wondered whether it was edible or not? We are given a dataset of purely categorical features and want to create a model to classify whether a mushroom with specific traits is edible or poisonous. \n",
    "The data guide states that there is no simple rule to determine whether a mushroom is poisonous or not. This is why an ML model would be beneficial.\n",
    "\n",
    "# 0. Import Libraries and Dataset"
   ]
  },
  {
   "cell_type": "code",
   "execution_count": 1,
   "id": "34dcb61b",
   "metadata": {
    "_cell_guid": "b1076dfc-b9ad-4769-8c92-a6c4dae69d19",
    "_uuid": "8f2839f25d086af736a60e9eeb907d3b93b6e0e5",
    "execution": {
     "iopub.execute_input": "2021-08-03T14:29:58.934055Z",
     "iopub.status.busy": "2021-08-03T14:29:58.933384Z",
     "iopub.status.idle": "2021-08-03T14:30:00.328680Z",
     "shell.execute_reply": "2021-08-03T14:30:00.329200Z",
     "shell.execute_reply.started": "2021-08-03T04:27:20.402125Z"
    },
    "papermill": {
     "duration": 1.459524,
     "end_time": "2021-08-03T14:30:00.329509",
     "exception": false,
     "start_time": "2021-08-03T14:29:58.869985",
     "status": "completed"
    },
    "tags": []
   },
   "outputs": [],
   "source": [
    "import numpy as np\n",
    "import pandas as pd\n",
    "\n",
    "from scipy.stats import chi2_contingency\n",
    "\n",
    "from sklearn.feature_selection import mutual_info_classif\n",
    "from sklearn.feature_selection import chi2\n",
    "from sklearn.feature_selection import SelectKBest\n",
    "from sklearn.ensemble import RandomForestClassifier\n",
    "from sklearn.metrics import confusion_matrix\n",
    "from sklearn.metrics import classification_report\n",
    "from sklearn.model_selection import cross_val_score\n",
    "from sklearn.model_selection import train_test_split\n",
    "\n",
    "import matplotlib.pyplot as plt\n",
    "import seaborn as sns\n",
    "\n",
    "SMALL_SIZE = 8\n",
    "MEDIUM_SIZE = 10\n",
    "BIGGER_SIZE = 12\n",
    "\n",
    "plt.rc('font', size=SMALL_SIZE)          # controls default text sizes\n",
    "plt.rc('axes', titlesize=SMALL_SIZE)     # fontsize of the axes title\n",
    "plt.rc('axes', labelsize=MEDIUM_SIZE)    # fontsize of the x and y labels\n",
    "plt.rc('xtick', labelsize=SMALL_SIZE)    # fontsize of the tick labels\n",
    "plt.rc('ytick', labelsize=SMALL_SIZE)    # fontsize of the tick labels\n",
    "plt.rc('legend', fontsize=SMALL_SIZE)    # legend fontsize\n",
    "plt.rc('figure', titlesize=BIGGER_SIZE)  # fontsize of the figure title\n",
    "\n",
    "import os\n",
    "\n",
    "data_path = '../input/mushroom-classification/mushrooms.csv'\n",
    "mushroom_data = pd.read_csv(data_path)"
   ]
  },
  {
   "cell_type": "markdown",
   "id": "c0824762",
   "metadata": {
    "papermill": {
     "duration": 0.028654,
     "end_time": "2021-08-03T14:30:00.387955",
     "exception": false,
     "start_time": "2021-08-03T14:30:00.359301",
     "status": "completed"
    },
    "tags": []
   },
   "source": [
    "# 1. Exploratory Data Analysis\n",
    "\n",
    "We can start by taking a peak at the dataset and how it is formatted."
   ]
  },
  {
   "cell_type": "code",
   "execution_count": 2,
   "id": "ad5e3f16",
   "metadata": {
    "execution": {
     "iopub.execute_input": "2021-08-03T14:30:00.449476Z",
     "iopub.status.busy": "2021-08-03T14:30:00.448833Z",
     "iopub.status.idle": "2021-08-03T14:30:00.493787Z",
     "shell.execute_reply": "2021-08-03T14:30:00.494312Z",
     "shell.execute_reply.started": "2021-08-03T03:37:20.010621Z"
    },
    "papermill": {
     "duration": 0.076417,
     "end_time": "2021-08-03T14:30:00.494492",
     "exception": false,
     "start_time": "2021-08-03T14:30:00.418075",
     "status": "completed"
    },
    "tags": []
   },
   "outputs": [
    {
     "name": "stdout",
     "output_type": "stream",
     "text": [
      "<class 'pandas.core.frame.DataFrame'>\n",
      "RangeIndex: 8124 entries, 0 to 8123\n",
      "Data columns (total 23 columns):\n",
      " #   Column                    Non-Null Count  Dtype \n",
      "---  ------                    --------------  ----- \n",
      " 0   class                     8124 non-null   object\n",
      " 1   cap-shape                 8124 non-null   object\n",
      " 2   cap-surface               8124 non-null   object\n",
      " 3   cap-color                 8124 non-null   object\n",
      " 4   bruises                   8124 non-null   object\n",
      " 5   odor                      8124 non-null   object\n",
      " 6   gill-attachment           8124 non-null   object\n",
      " 7   gill-spacing              8124 non-null   object\n",
      " 8   gill-size                 8124 non-null   object\n",
      " 9   gill-color                8124 non-null   object\n",
      " 10  stalk-shape               8124 non-null   object\n",
      " 11  stalk-root                8124 non-null   object\n",
      " 12  stalk-surface-above-ring  8124 non-null   object\n",
      " 13  stalk-surface-below-ring  8124 non-null   object\n",
      " 14  stalk-color-above-ring    8124 non-null   object\n",
      " 15  stalk-color-below-ring    8124 non-null   object\n",
      " 16  veil-type                 8124 non-null   object\n",
      " 17  veil-color                8124 non-null   object\n",
      " 18  ring-number               8124 non-null   object\n",
      " 19  ring-type                 8124 non-null   object\n",
      " 20  spore-print-color         8124 non-null   object\n",
      " 21  population                8124 non-null   object\n",
      " 22  habitat                   8124 non-null   object\n",
      "dtypes: object(23)\n",
      "memory usage: 1.4+ MB\n"
     ]
    }
   ],
   "source": [
    "mushroom_data.info()"
   ]
  },
  {
   "cell_type": "code",
   "execution_count": 3,
   "id": "c38e4e0e",
   "metadata": {
    "execution": {
     "iopub.execute_input": "2021-08-03T14:30:00.557545Z",
     "iopub.status.busy": "2021-08-03T14:30:00.556874Z",
     "iopub.status.idle": "2021-08-03T14:30:00.589460Z",
     "shell.execute_reply": "2021-08-03T14:30:00.588799Z",
     "shell.execute_reply.started": "2021-08-03T03:37:20.903728Z"
    },
    "papermill": {
     "duration": 0.064948,
     "end_time": "2021-08-03T14:30:00.589655",
     "exception": false,
     "start_time": "2021-08-03T14:30:00.524707",
     "status": "completed"
    },
    "tags": []
   },
   "outputs": [
    {
     "data": {
      "text/html": [
       "<div>\n",
       "<style scoped>\n",
       "    .dataframe tbody tr th:only-of-type {\n",
       "        vertical-align: middle;\n",
       "    }\n",
       "\n",
       "    .dataframe tbody tr th {\n",
       "        vertical-align: top;\n",
       "    }\n",
       "\n",
       "    .dataframe thead th {\n",
       "        text-align: right;\n",
       "    }\n",
       "</style>\n",
       "<table border=\"1\" class=\"dataframe\">\n",
       "  <thead>\n",
       "    <tr style=\"text-align: right;\">\n",
       "      <th></th>\n",
       "      <th>class</th>\n",
       "      <th>cap-shape</th>\n",
       "      <th>cap-surface</th>\n",
       "      <th>cap-color</th>\n",
       "      <th>bruises</th>\n",
       "      <th>odor</th>\n",
       "      <th>gill-attachment</th>\n",
       "      <th>gill-spacing</th>\n",
       "      <th>gill-size</th>\n",
       "      <th>gill-color</th>\n",
       "      <th>...</th>\n",
       "      <th>stalk-surface-below-ring</th>\n",
       "      <th>stalk-color-above-ring</th>\n",
       "      <th>stalk-color-below-ring</th>\n",
       "      <th>veil-type</th>\n",
       "      <th>veil-color</th>\n",
       "      <th>ring-number</th>\n",
       "      <th>ring-type</th>\n",
       "      <th>spore-print-color</th>\n",
       "      <th>population</th>\n",
       "      <th>habitat</th>\n",
       "    </tr>\n",
       "  </thead>\n",
       "  <tbody>\n",
       "    <tr>\n",
       "      <th>0</th>\n",
       "      <td>p</td>\n",
       "      <td>x</td>\n",
       "      <td>s</td>\n",
       "      <td>n</td>\n",
       "      <td>t</td>\n",
       "      <td>p</td>\n",
       "      <td>f</td>\n",
       "      <td>c</td>\n",
       "      <td>n</td>\n",
       "      <td>k</td>\n",
       "      <td>...</td>\n",
       "      <td>s</td>\n",
       "      <td>w</td>\n",
       "      <td>w</td>\n",
       "      <td>p</td>\n",
       "      <td>w</td>\n",
       "      <td>o</td>\n",
       "      <td>p</td>\n",
       "      <td>k</td>\n",
       "      <td>s</td>\n",
       "      <td>u</td>\n",
       "    </tr>\n",
       "    <tr>\n",
       "      <th>1</th>\n",
       "      <td>e</td>\n",
       "      <td>x</td>\n",
       "      <td>s</td>\n",
       "      <td>y</td>\n",
       "      <td>t</td>\n",
       "      <td>a</td>\n",
       "      <td>f</td>\n",
       "      <td>c</td>\n",
       "      <td>b</td>\n",
       "      <td>k</td>\n",
       "      <td>...</td>\n",
       "      <td>s</td>\n",
       "      <td>w</td>\n",
       "      <td>w</td>\n",
       "      <td>p</td>\n",
       "      <td>w</td>\n",
       "      <td>o</td>\n",
       "      <td>p</td>\n",
       "      <td>n</td>\n",
       "      <td>n</td>\n",
       "      <td>g</td>\n",
       "    </tr>\n",
       "    <tr>\n",
       "      <th>2</th>\n",
       "      <td>e</td>\n",
       "      <td>b</td>\n",
       "      <td>s</td>\n",
       "      <td>w</td>\n",
       "      <td>t</td>\n",
       "      <td>l</td>\n",
       "      <td>f</td>\n",
       "      <td>c</td>\n",
       "      <td>b</td>\n",
       "      <td>n</td>\n",
       "      <td>...</td>\n",
       "      <td>s</td>\n",
       "      <td>w</td>\n",
       "      <td>w</td>\n",
       "      <td>p</td>\n",
       "      <td>w</td>\n",
       "      <td>o</td>\n",
       "      <td>p</td>\n",
       "      <td>n</td>\n",
       "      <td>n</td>\n",
       "      <td>m</td>\n",
       "    </tr>\n",
       "    <tr>\n",
       "      <th>3</th>\n",
       "      <td>p</td>\n",
       "      <td>x</td>\n",
       "      <td>y</td>\n",
       "      <td>w</td>\n",
       "      <td>t</td>\n",
       "      <td>p</td>\n",
       "      <td>f</td>\n",
       "      <td>c</td>\n",
       "      <td>n</td>\n",
       "      <td>n</td>\n",
       "      <td>...</td>\n",
       "      <td>s</td>\n",
       "      <td>w</td>\n",
       "      <td>w</td>\n",
       "      <td>p</td>\n",
       "      <td>w</td>\n",
       "      <td>o</td>\n",
       "      <td>p</td>\n",
       "      <td>k</td>\n",
       "      <td>s</td>\n",
       "      <td>u</td>\n",
       "    </tr>\n",
       "    <tr>\n",
       "      <th>4</th>\n",
       "      <td>e</td>\n",
       "      <td>x</td>\n",
       "      <td>s</td>\n",
       "      <td>g</td>\n",
       "      <td>f</td>\n",
       "      <td>n</td>\n",
       "      <td>f</td>\n",
       "      <td>w</td>\n",
       "      <td>b</td>\n",
       "      <td>k</td>\n",
       "      <td>...</td>\n",
       "      <td>s</td>\n",
       "      <td>w</td>\n",
       "      <td>w</td>\n",
       "      <td>p</td>\n",
       "      <td>w</td>\n",
       "      <td>o</td>\n",
       "      <td>e</td>\n",
       "      <td>n</td>\n",
       "      <td>a</td>\n",
       "      <td>g</td>\n",
       "    </tr>\n",
       "  </tbody>\n",
       "</table>\n",
       "<p>5 rows × 23 columns</p>\n",
       "</div>"
      ],
      "text/plain": [
       "  class cap-shape cap-surface cap-color bruises odor gill-attachment  \\\n",
       "0     p         x           s         n       t    p               f   \n",
       "1     e         x           s         y       t    a               f   \n",
       "2     e         b           s         w       t    l               f   \n",
       "3     p         x           y         w       t    p               f   \n",
       "4     e         x           s         g       f    n               f   \n",
       "\n",
       "  gill-spacing gill-size gill-color  ... stalk-surface-below-ring  \\\n",
       "0            c         n          k  ...                        s   \n",
       "1            c         b          k  ...                        s   \n",
       "2            c         b          n  ...                        s   \n",
       "3            c         n          n  ...                        s   \n",
       "4            w         b          k  ...                        s   \n",
       "\n",
       "  stalk-color-above-ring stalk-color-below-ring veil-type veil-color  \\\n",
       "0                      w                      w         p          w   \n",
       "1                      w                      w         p          w   \n",
       "2                      w                      w         p          w   \n",
       "3                      w                      w         p          w   \n",
       "4                      w                      w         p          w   \n",
       "\n",
       "  ring-number ring-type spore-print-color population habitat  \n",
       "0           o         p                 k          s       u  \n",
       "1           o         p                 n          n       g  \n",
       "2           o         p                 n          n       m  \n",
       "3           o         p                 k          s       u  \n",
       "4           o         e                 n          a       g  \n",
       "\n",
       "[5 rows x 23 columns]"
      ]
     },
     "execution_count": 3,
     "metadata": {},
     "output_type": "execute_result"
    }
   ],
   "source": [
    "mushroom_data.head()"
   ]
  },
  {
   "cell_type": "code",
   "execution_count": 4,
   "id": "87069dfa",
   "metadata": {
    "execution": {
     "iopub.execute_input": "2021-08-03T14:30:00.663285Z",
     "iopub.status.busy": "2021-08-03T14:30:00.659810Z",
     "iopub.status.idle": "2021-08-03T14:30:00.794082Z",
     "shell.execute_reply": "2021-08-03T14:30:00.793440Z",
     "shell.execute_reply.started": "2021-08-03T03:37:21.705001Z"
    },
    "papermill": {
     "duration": 0.172655,
     "end_time": "2021-08-03T14:30:00.794224",
     "exception": false,
     "start_time": "2021-08-03T14:30:00.621569",
     "status": "completed"
    },
    "tags": []
   },
   "outputs": [
    {
     "name": "stdout",
     "output_type": "stream",
     "text": [
      "We have 23 features with 8124 observations\n"
     ]
    },
    {
     "data": {
      "text/html": [
       "<div>\n",
       "<style scoped>\n",
       "    .dataframe tbody tr th:only-of-type {\n",
       "        vertical-align: middle;\n",
       "    }\n",
       "\n",
       "    .dataframe tbody tr th {\n",
       "        vertical-align: top;\n",
       "    }\n",
       "\n",
       "    .dataframe thead th {\n",
       "        text-align: right;\n",
       "    }\n",
       "</style>\n",
       "<table border=\"1\" class=\"dataframe\">\n",
       "  <thead>\n",
       "    <tr style=\"text-align: right;\">\n",
       "      <th></th>\n",
       "      <th>count</th>\n",
       "      <th>unique</th>\n",
       "      <th>top</th>\n",
       "      <th>freq</th>\n",
       "    </tr>\n",
       "  </thead>\n",
       "  <tbody>\n",
       "    <tr>\n",
       "      <th>class</th>\n",
       "      <td>8124</td>\n",
       "      <td>2</td>\n",
       "      <td>e</td>\n",
       "      <td>4208</td>\n",
       "    </tr>\n",
       "    <tr>\n",
       "      <th>cap-shape</th>\n",
       "      <td>8124</td>\n",
       "      <td>6</td>\n",
       "      <td>x</td>\n",
       "      <td>3656</td>\n",
       "    </tr>\n",
       "    <tr>\n",
       "      <th>cap-surface</th>\n",
       "      <td>8124</td>\n",
       "      <td>4</td>\n",
       "      <td>y</td>\n",
       "      <td>3244</td>\n",
       "    </tr>\n",
       "    <tr>\n",
       "      <th>cap-color</th>\n",
       "      <td>8124</td>\n",
       "      <td>10</td>\n",
       "      <td>n</td>\n",
       "      <td>2284</td>\n",
       "    </tr>\n",
       "    <tr>\n",
       "      <th>bruises</th>\n",
       "      <td>8124</td>\n",
       "      <td>2</td>\n",
       "      <td>f</td>\n",
       "      <td>4748</td>\n",
       "    </tr>\n",
       "    <tr>\n",
       "      <th>odor</th>\n",
       "      <td>8124</td>\n",
       "      <td>9</td>\n",
       "      <td>n</td>\n",
       "      <td>3528</td>\n",
       "    </tr>\n",
       "    <tr>\n",
       "      <th>gill-attachment</th>\n",
       "      <td>8124</td>\n",
       "      <td>2</td>\n",
       "      <td>f</td>\n",
       "      <td>7914</td>\n",
       "    </tr>\n",
       "    <tr>\n",
       "      <th>gill-spacing</th>\n",
       "      <td>8124</td>\n",
       "      <td>2</td>\n",
       "      <td>c</td>\n",
       "      <td>6812</td>\n",
       "    </tr>\n",
       "    <tr>\n",
       "      <th>gill-size</th>\n",
       "      <td>8124</td>\n",
       "      <td>2</td>\n",
       "      <td>b</td>\n",
       "      <td>5612</td>\n",
       "    </tr>\n",
       "    <tr>\n",
       "      <th>gill-color</th>\n",
       "      <td>8124</td>\n",
       "      <td>12</td>\n",
       "      <td>b</td>\n",
       "      <td>1728</td>\n",
       "    </tr>\n",
       "    <tr>\n",
       "      <th>stalk-shape</th>\n",
       "      <td>8124</td>\n",
       "      <td>2</td>\n",
       "      <td>t</td>\n",
       "      <td>4608</td>\n",
       "    </tr>\n",
       "    <tr>\n",
       "      <th>stalk-root</th>\n",
       "      <td>8124</td>\n",
       "      <td>5</td>\n",
       "      <td>b</td>\n",
       "      <td>3776</td>\n",
       "    </tr>\n",
       "    <tr>\n",
       "      <th>stalk-surface-above-ring</th>\n",
       "      <td>8124</td>\n",
       "      <td>4</td>\n",
       "      <td>s</td>\n",
       "      <td>5176</td>\n",
       "    </tr>\n",
       "    <tr>\n",
       "      <th>stalk-surface-below-ring</th>\n",
       "      <td>8124</td>\n",
       "      <td>4</td>\n",
       "      <td>s</td>\n",
       "      <td>4936</td>\n",
       "    </tr>\n",
       "    <tr>\n",
       "      <th>stalk-color-above-ring</th>\n",
       "      <td>8124</td>\n",
       "      <td>9</td>\n",
       "      <td>w</td>\n",
       "      <td>4464</td>\n",
       "    </tr>\n",
       "    <tr>\n",
       "      <th>stalk-color-below-ring</th>\n",
       "      <td>8124</td>\n",
       "      <td>9</td>\n",
       "      <td>w</td>\n",
       "      <td>4384</td>\n",
       "    </tr>\n",
       "    <tr>\n",
       "      <th>veil-type</th>\n",
       "      <td>8124</td>\n",
       "      <td>1</td>\n",
       "      <td>p</td>\n",
       "      <td>8124</td>\n",
       "    </tr>\n",
       "    <tr>\n",
       "      <th>veil-color</th>\n",
       "      <td>8124</td>\n",
       "      <td>4</td>\n",
       "      <td>w</td>\n",
       "      <td>7924</td>\n",
       "    </tr>\n",
       "    <tr>\n",
       "      <th>ring-number</th>\n",
       "      <td>8124</td>\n",
       "      <td>3</td>\n",
       "      <td>o</td>\n",
       "      <td>7488</td>\n",
       "    </tr>\n",
       "    <tr>\n",
       "      <th>ring-type</th>\n",
       "      <td>8124</td>\n",
       "      <td>5</td>\n",
       "      <td>p</td>\n",
       "      <td>3968</td>\n",
       "    </tr>\n",
       "    <tr>\n",
       "      <th>spore-print-color</th>\n",
       "      <td>8124</td>\n",
       "      <td>9</td>\n",
       "      <td>w</td>\n",
       "      <td>2388</td>\n",
       "    </tr>\n",
       "    <tr>\n",
       "      <th>population</th>\n",
       "      <td>8124</td>\n",
       "      <td>6</td>\n",
       "      <td>v</td>\n",
       "      <td>4040</td>\n",
       "    </tr>\n",
       "    <tr>\n",
       "      <th>habitat</th>\n",
       "      <td>8124</td>\n",
       "      <td>7</td>\n",
       "      <td>d</td>\n",
       "      <td>3148</td>\n",
       "    </tr>\n",
       "  </tbody>\n",
       "</table>\n",
       "</div>"
      ],
      "text/plain": [
       "                         count unique top  freq\n",
       "class                     8124      2   e  4208\n",
       "cap-shape                 8124      6   x  3656\n",
       "cap-surface               8124      4   y  3244\n",
       "cap-color                 8124     10   n  2284\n",
       "bruises                   8124      2   f  4748\n",
       "odor                      8124      9   n  3528\n",
       "gill-attachment           8124      2   f  7914\n",
       "gill-spacing              8124      2   c  6812\n",
       "gill-size                 8124      2   b  5612\n",
       "gill-color                8124     12   b  1728\n",
       "stalk-shape               8124      2   t  4608\n",
       "stalk-root                8124      5   b  3776\n",
       "stalk-surface-above-ring  8124      4   s  5176\n",
       "stalk-surface-below-ring  8124      4   s  4936\n",
       "stalk-color-above-ring    8124      9   w  4464\n",
       "stalk-color-below-ring    8124      9   w  4384\n",
       "veil-type                 8124      1   p  8124\n",
       "veil-color                8124      4   w  7924\n",
       "ring-number               8124      3   o  7488\n",
       "ring-type                 8124      5   p  3968\n",
       "spore-print-color         8124      9   w  2388\n",
       "population                8124      6   v  4040\n",
       "habitat                   8124      7   d  3148"
      ]
     },
     "execution_count": 4,
     "metadata": {},
     "output_type": "execute_result"
    }
   ],
   "source": [
    "# Shape of the dataset\n",
    "print(\"We have\", mushroom_data.shape[1], \"features with\", mushroom_data.shape[0], \"observations\")\n",
    "\n",
    "mushroom_data.describe().T"
   ]
  },
  {
   "cell_type": "code",
   "execution_count": 5,
   "id": "acef3d3a",
   "metadata": {
    "execution": {
     "iopub.execute_input": "2021-08-03T14:30:00.899585Z",
     "iopub.status.busy": "2021-08-03T14:30:00.879925Z",
     "iopub.status.idle": "2021-08-03T14:30:00.908806Z",
     "shell.execute_reply": "2021-08-03T14:30:00.908159Z",
     "shell.execute_reply.started": "2021-08-03T03:37:22.354254Z"
    },
    "papermill": {
     "duration": 0.083971,
     "end_time": "2021-08-03T14:30:00.908972",
     "exception": false,
     "start_time": "2021-08-03T14:30:00.825001",
     "status": "completed"
    },
    "tags": []
   },
   "outputs": [
    {
     "name": "stdout",
     "output_type": "stream",
     "text": [
      "The dataset has 0 missing points.\n"
     ]
    },
    {
     "data": {
      "text/plain": [
       "class                       0\n",
       "cap-shape                   0\n",
       "cap-surface                 0\n",
       "cap-color                   0\n",
       "bruises                     0\n",
       "odor                        0\n",
       "gill-attachment             0\n",
       "gill-spacing                0\n",
       "gill-size                   0\n",
       "gill-color                  0\n",
       "stalk-shape                 0\n",
       "stalk-root                  0\n",
       "stalk-surface-above-ring    0\n",
       "stalk-surface-below-ring    0\n",
       "stalk-color-above-ring      0\n",
       "stalk-color-below-ring      0\n",
       "veil-type                   0\n",
       "veil-color                  0\n",
       "ring-number                 0\n",
       "ring-type                   0\n",
       "spore-print-color           0\n",
       "population                  0\n",
       "habitat                     0\n",
       "dtype: int64"
      ]
     },
     "execution_count": 5,
     "metadata": {},
     "output_type": "execute_result"
    }
   ],
   "source": [
    "# Number of missing data values\n",
    "print(\"The dataset has\", mushroom_data.isnull().sum().sum(), \"missing points.\")\n",
    "\n",
    "mushroom_data.isnull().sum()"
   ]
  },
  {
   "cell_type": "code",
   "execution_count": 6,
   "id": "2b8761bb",
   "metadata": {
    "execution": {
     "iopub.execute_input": "2021-08-03T14:30:00.982072Z",
     "iopub.status.busy": "2021-08-03T14:30:00.981441Z",
     "iopub.status.idle": "2021-08-03T14:30:00.984839Z",
     "shell.execute_reply": "2021-08-03T14:30:00.984189Z",
     "shell.execute_reply.started": "2021-08-03T03:37:22.857994Z"
    },
    "papermill": {
     "duration": 0.041132,
     "end_time": "2021-08-03T14:30:00.984975",
     "exception": false,
     "start_time": "2021-08-03T14:30:00.943843",
     "status": "completed"
    },
    "tags": []
   },
   "outputs": [
    {
     "data": {
      "text/plain": [
       "class                       object\n",
       "cap-shape                   object\n",
       "cap-surface                 object\n",
       "cap-color                   object\n",
       "bruises                     object\n",
       "odor                        object\n",
       "gill-attachment             object\n",
       "gill-spacing                object\n",
       "gill-size                   object\n",
       "gill-color                  object\n",
       "stalk-shape                 object\n",
       "stalk-root                  object\n",
       "stalk-surface-above-ring    object\n",
       "stalk-surface-below-ring    object\n",
       "stalk-color-above-ring      object\n",
       "stalk-color-below-ring      object\n",
       "veil-type                   object\n",
       "veil-color                  object\n",
       "ring-number                 object\n",
       "ring-type                   object\n",
       "spore-print-color           object\n",
       "population                  object\n",
       "habitat                     object\n",
       "dtype: object"
      ]
     },
     "execution_count": 6,
     "metadata": {},
     "output_type": "execute_result"
    }
   ],
   "source": [
    "# object_columns = [col for col in mushroom_data.columns if mushroom_data[col].dtype==object]\n",
    "mushroom_data.dtypes"
   ]
  },
  {
   "cell_type": "code",
   "execution_count": 7,
   "id": "19189a17",
   "metadata": {
    "execution": {
     "iopub.execute_input": "2021-08-03T14:30:01.070658Z",
     "iopub.status.busy": "2021-08-03T14:30:01.069987Z",
     "iopub.status.idle": "2021-08-03T14:30:01.194158Z",
     "shell.execute_reply": "2021-08-03T14:30:01.193561Z",
     "shell.execute_reply.started": "2021-08-03T03:37:23.338461Z"
    },
    "papermill": {
     "duration": 0.178425,
     "end_time": "2021-08-03T14:30:01.194312",
     "exception": false,
     "start_time": "2021-08-03T14:30:01.015887",
     "status": "completed"
    },
    "tags": []
   },
   "outputs": [
    {
     "data": {
      "text/plain": [
       "Text(0.5, 1.0, 'Edible vs Poisonous Mushrooms in Dataset')"
      ]
     },
     "execution_count": 7,
     "metadata": {},
     "output_type": "execute_result"
    },
    {
     "data": {
      "image/png": "[encoded data removed]",
      "text/plain": [
       "<Figure size 720x432 with 1 Axes>"
      ]
     },
     "metadata": {},
     "output_type": "display_data"
    }
   ],
   "source": [
    "class_data = mushroom_data['class'].value_counts()\n",
    "pie, ax = plt.subplots(figsize=[10,6])\n",
    "labels = class_data.keys()\n",
    "plt.pie(x=class_data, autopct=\"%.1f%%\",explode=[0,0.05], labels=labels, pctdistance=0.5)\n",
    "plt.title(\"Edible vs Poisonous Mushrooms in Dataset\", fontsize=14)"
   ]
  },
  {
   "cell_type": "markdown",
   "id": "a1cef364",
   "metadata": {
    "papermill": {
     "duration": 0.031866,
     "end_time": "2021-08-03T14:30:01.258464",
     "exception": false,
     "start_time": "2021-08-03T14:30:01.226598",
     "status": "completed"
    },
    "tags": []
   },
   "source": [
    "### Summary\n",
    "\n",
    "We have 8124 observations with 23 features. One of the features will be used for our target variable (class). All our features are object types and are not missing any data points.\n",
    "\n",
    "### Initial Thoughts\n",
    "\n",
    "Since we have a relatively small dataset here, I am thinking of one-hot encoding all the features. If we did have missing values, I would experiment with removing rows or imputing and how that would affect the model.\n",
    "I also noticed that there a feature that has one value for all 8124 observations (veil-type). I will probably end up dropping that column from the dataset."
   ]
  },
  {
   "cell_type": "markdown",
   "id": "9dab1984",
   "metadata": {
    "papermill": {
     "duration": 0.031809,
     "end_time": "2021-08-03T14:30:01.322554",
     "exception": false,
     "start_time": "2021-08-03T14:30:01.290745",
     "status": "completed"
    },
    "tags": []
   },
   "source": [
    "# 2. Feature Engineering and Selection\n",
    "\n",
    "Because all of our features are categorical along with our target variable, we have two main tests for feature importance\n",
    "\n",
    "1. Chi-squared test\n",
    "2. Mutual Information\n",
    "\n",
    "### One-Hot Encoding (getting data ready for analysis)"
   ]
  },
  {
   "cell_type": "code",
   "execution_count": 8,
   "id": "6e048379",
   "metadata": {
    "execution": {
     "iopub.execute_input": "2021-08-03T14:30:01.392237Z",
     "iopub.status.busy": "2021-08-03T14:30:01.391621Z",
     "iopub.status.idle": "2021-08-03T14:30:01.455124Z",
     "shell.execute_reply": "2021-08-03T14:30:01.454608Z",
     "shell.execute_reply.started": "2021-08-03T03:37:25.241711Z"
    },
    "papermill": {
     "duration": 0.100589,
     "end_time": "2021-08-03T14:30:01.455276",
     "exception": false,
     "start_time": "2021-08-03T14:30:01.354687",
     "status": "completed"
    },
    "tags": []
   },
   "outputs": [
    {
     "data": {
      "text/html": [
       "<div>\n",
       "<style scoped>\n",
       "    .dataframe tbody tr th:only-of-type {\n",
       "        vertical-align: middle;\n",
       "    }\n",
       "\n",
       "    .dataframe tbody tr th {\n",
       "        vertical-align: top;\n",
       "    }\n",
       "\n",
       "    .dataframe thead th {\n",
       "        text-align: right;\n",
       "    }\n",
       "</style>\n",
       "<table border=\"1\" class=\"dataframe\">\n",
       "  <thead>\n",
       "    <tr style=\"text-align: right;\">\n",
       "      <th></th>\n",
       "      <th>cap-shape_b</th>\n",
       "      <th>cap-shape_c</th>\n",
       "      <th>cap-shape_f</th>\n",
       "      <th>cap-shape_k</th>\n",
       "      <th>cap-shape_s</th>\n",
       "      <th>cap-shape_x</th>\n",
       "      <th>cap-surface_f</th>\n",
       "      <th>cap-surface_g</th>\n",
       "      <th>cap-surface_s</th>\n",
       "      <th>cap-surface_y</th>\n",
       "      <th>...</th>\n",
       "      <th>population_s</th>\n",
       "      <th>population_v</th>\n",
       "      <th>population_y</th>\n",
       "      <th>habitat_d</th>\n",
       "      <th>habitat_g</th>\n",
       "      <th>habitat_l</th>\n",
       "      <th>habitat_m</th>\n",
       "      <th>habitat_p</th>\n",
       "      <th>habitat_u</th>\n",
       "      <th>habitat_w</th>\n",
       "    </tr>\n",
       "  </thead>\n",
       "  <tbody>\n",
       "    <tr>\n",
       "      <th>0</th>\n",
       "      <td>0</td>\n",
       "      <td>0</td>\n",
       "      <td>0</td>\n",
       "      <td>0</td>\n",
       "      <td>0</td>\n",
       "      <td>1</td>\n",
       "      <td>0</td>\n",
       "      <td>0</td>\n",
       "      <td>1</td>\n",
       "      <td>0</td>\n",
       "      <td>...</td>\n",
       "      <td>1</td>\n",
       "      <td>0</td>\n",
       "      <td>0</td>\n",
       "      <td>0</td>\n",
       "      <td>0</td>\n",
       "      <td>0</td>\n",
       "      <td>0</td>\n",
       "      <td>0</td>\n",
       "      <td>1</td>\n",
       "      <td>0</td>\n",
       "    </tr>\n",
       "    <tr>\n",
       "      <th>1</th>\n",
       "      <td>0</td>\n",
       "      <td>0</td>\n",
       "      <td>0</td>\n",
       "      <td>0</td>\n",
       "      <td>0</td>\n",
       "      <td>1</td>\n",
       "      <td>0</td>\n",
       "      <td>0</td>\n",
       "      <td>1</td>\n",
       "      <td>0</td>\n",
       "      <td>...</td>\n",
       "      <td>0</td>\n",
       "      <td>0</td>\n",
       "      <td>0</td>\n",
       "      <td>0</td>\n",
       "      <td>1</td>\n",
       "      <td>0</td>\n",
       "      <td>0</td>\n",
       "      <td>0</td>\n",
       "      <td>0</td>\n",
       "      <td>0</td>\n",
       "    </tr>\n",
       "    <tr>\n",
       "      <th>2</th>\n",
       "      <td>1</td>\n",
       "      <td>0</td>\n",
       "      <td>0</td>\n",
       "      <td>0</td>\n",
       "      <td>0</td>\n",
       "      <td>0</td>\n",
       "      <td>0</td>\n",
       "      <td>0</td>\n",
       "      <td>1</td>\n",
       "      <td>0</td>\n",
       "      <td>...</td>\n",
       "      <td>0</td>\n",
       "      <td>0</td>\n",
       "      <td>0</td>\n",
       "      <td>0</td>\n",
       "      <td>0</td>\n",
       "      <td>0</td>\n",
       "      <td>1</td>\n",
       "      <td>0</td>\n",
       "      <td>0</td>\n",
       "      <td>0</td>\n",
       "    </tr>\n",
       "    <tr>\n",
       "      <th>3</th>\n",
       "      <td>0</td>\n",
       "      <td>0</td>\n",
       "      <td>0</td>\n",
       "      <td>0</td>\n",
       "      <td>0</td>\n",
       "      <td>1</td>\n",
       "      <td>0</td>\n",
       "      <td>0</td>\n",
       "      <td>0</td>\n",
       "      <td>1</td>\n",
       "      <td>...</td>\n",
       "      <td>1</td>\n",
       "      <td>0</td>\n",
       "      <td>0</td>\n",
       "      <td>0</td>\n",
       "      <td>0</td>\n",
       "      <td>0</td>\n",
       "      <td>0</td>\n",
       "      <td>0</td>\n",
       "      <td>1</td>\n",
       "      <td>0</td>\n",
       "    </tr>\n",
       "    <tr>\n",
       "      <th>4</th>\n",
       "      <td>0</td>\n",
       "      <td>0</td>\n",
       "      <td>0</td>\n",
       "      <td>0</td>\n",
       "      <td>0</td>\n",
       "      <td>1</td>\n",
       "      <td>0</td>\n",
       "      <td>0</td>\n",
       "      <td>1</td>\n",
       "      <td>0</td>\n",
       "      <td>...</td>\n",
       "      <td>0</td>\n",
       "      <td>0</td>\n",
       "      <td>0</td>\n",
       "      <td>0</td>\n",
       "      <td>1</td>\n",
       "      <td>0</td>\n",
       "      <td>0</td>\n",
       "      <td>0</td>\n",
       "      <td>0</td>\n",
       "      <td>0</td>\n",
       "    </tr>\n",
       "  </tbody>\n",
       "</table>\n",
       "<p>5 rows × 116 columns</p>\n",
       "</div>"
      ],
      "text/plain": [
       "   cap-shape_b  cap-shape_c  cap-shape_f  cap-shape_k  cap-shape_s  \\\n",
       "0            0            0            0            0            0   \n",
       "1            0            0            0            0            0   \n",
       "2            1            0            0            0            0   \n",
       "3            0            0            0            0            0   \n",
       "4            0            0            0            0            0   \n",
       "\n",
       "   cap-shape_x  cap-surface_f  cap-surface_g  cap-surface_s  cap-surface_y  \\\n",
       "0            1              0              0              1              0   \n",
       "1            1              0              0              1              0   \n",
       "2            0              0              0              1              0   \n",
       "3            1              0              0              0              1   \n",
       "4            1              0              0              1              0   \n",
       "\n",
       "   ...  population_s  population_v  population_y  habitat_d  habitat_g  \\\n",
       "0  ...             1             0             0          0          0   \n",
       "1  ...             0             0             0          0          1   \n",
       "2  ...             0             0             0          0          0   \n",
       "3  ...             1             0             0          0          0   \n",
       "4  ...             0             0             0          0          1   \n",
       "\n",
       "   habitat_l  habitat_m  habitat_p  habitat_u  habitat_w  \n",
       "0          0          0          0          1          0  \n",
       "1          0          0          0          0          0  \n",
       "2          0          1          0          0          0  \n",
       "3          0          0          0          1          0  \n",
       "4          0          0          0          0          0  \n",
       "\n",
       "[5 rows x 116 columns]"
      ]
     },
     "execution_count": 8,
     "metadata": {},
     "output_type": "execute_result"
    }
   ],
   "source": [
    "# Copy the original data\n",
    "X = mushroom_data.copy()\n",
    "y = X.pop('class')\n",
    "\n",
    "# Remove useless feature\n",
    "X = X.drop('veil-type', axis=1)\n",
    "\n",
    "X = pd.get_dummies(X)\n",
    "y = pd.factorize(y)\n",
    "\n",
    "X.head()"
   ]
  },
  {
   "cell_type": "markdown",
   "id": "3eaba053",
   "metadata": {
    "papermill": {
     "duration": 0.032837,
     "end_time": "2021-08-03T14:30:01.520986",
     "exception": false,
     "start_time": "2021-08-03T14:30:01.488149",
     "status": "completed"
    },
    "tags": []
   },
   "source": [
    "### What is the Chi-squared test for feature selection?\n",
    "\n",
    "The Chi-squared test for independence is for testing whether two variables are independent from each other. When working with categorical data, the chi-square test is often used to minimize the noise in the input when building the model. \n",
    "\n",
    "\\begin{gather*}\n",
    "H_0 = \\text{The relationship is independent}\\\\\n",
    "H_1 = \\text{The relationship is not independent}\n",
    "\\end{gather*}\n",
    "\n",
    "The p-value we will use as our threshold is 0.05. That means we are looking at a 95% confidence interval. However one thing to note is that we are one-hot encoding the features before running the chi-squared tests. Since we are doing it this way, \n",
    "the p-value that we are going to use to reject the null hypothesis is going to be different depending on the feature's number of unique instances. The p-value we will actually use will be determined by the following formula:\n",
    "\n",
    "\\begin{gather*}\n",
    "\\text{p-value} = \\frac{0.05}{\\text{# of unique indexes}}\n",
    "\\end{gather*}"
   ]
  },
  {
   "cell_type": "code",
   "execution_count": 9,
   "id": "fad8abd3",
   "metadata": {
    "execution": {
     "iopub.execute_input": "2021-08-03T14:30:01.596213Z",
     "iopub.status.busy": "2021-08-03T14:30:01.594666Z",
     "iopub.status.idle": "2021-08-03T14:30:04.746391Z",
     "shell.execute_reply": "2021-08-03T14:30:04.745738Z",
     "shell.execute_reply.started": "2021-08-03T03:37:27.040978Z"
    },
    "papermill": {
     "duration": 3.192225,
     "end_time": "2021-08-03T14:30:04.746533",
     "exception": false,
     "start_time": "2021-08-03T14:30:01.554308",
     "status": "completed"
    },
    "tags": []
   },
   "outputs": [
    {
     "data": {
      "text/plain": [
       "odor_n                        5010.142672\n",
       "odor_f                        3158.863210\n",
       "stalk-surface-above-ring_k    2802.974198\n",
       "stalk-surface-below-ring_k    2669.679820\n",
       "ring-type_p                   2370.911030\n",
       "                                 ...     \n",
       "cap-shape_f                      2.712653\n",
       "stalk-root_b                     2.477984\n",
       "cap-surface_g                    2.475240\n",
       "cap-shape_c                      2.475240\n",
       "stalk-surface-above-ring_y       1.576158\n",
       "Length: 116, dtype: float64"
      ]
     },
     "execution_count": 9,
     "metadata": {},
     "output_type": "execute_result"
    }
   ],
   "source": [
    "X_temp = mushroom_data.copy().drop('class', axis=1).drop('veil-type', axis=1)\n",
    "# Find the p values from the chi2 test for each column\n",
    "chi2_scores = []\n",
    "chi2_pvalues = []\n",
    "features_to_drop = []\n",
    "for i in X_temp.columns:\n",
    "    dummies = pd.get_dummies(X_temp[i])\n",
    "    for j in dummies:\n",
    "        chi_score = chi2_contingency(pd.crosstab(y[0],dummies[j]))[0]\n",
    "        p_value = chi2_contingency(pd.crosstab(y[0],dummies[j]))[1]*X_temp[i].nunique()\n",
    "        chi2_scores.append(chi_score)\n",
    "        chi2_pvalues.append(p_value)\n",
    "        if p_value > 0.05:\n",
    "            features_to_drop.append(i+'_'+j)\n",
    "chi2_scores = pd.Series(chi2_scores, index=X.columns).sort_values(ascending=False)\n",
    "chi2_scores"
   ]
  },
  {
   "cell_type": "code",
   "execution_count": 10,
   "id": "4227cc3c",
   "metadata": {
    "execution": {
     "iopub.execute_input": "2021-08-03T14:30:04.838204Z",
     "iopub.status.busy": "2021-08-03T14:30:04.818813Z",
     "iopub.status.idle": "2021-08-03T14:30:07.662682Z",
     "shell.execute_reply": "2021-08-03T14:30:07.662155Z",
     "shell.execute_reply.started": "2021-08-03T03:37:30.599749Z"
    },
    "papermill": {
     "duration": 2.882357,
     "end_time": "2021-08-03T14:30:07.662828",
     "exception": false,
     "start_time": "2021-08-03T14:30:04.780471",
     "status": "completed"
    },
    "tags": []
   },
   "outputs": [
    {
     "data": {
      "text/plain": [
       "Text(0.5, 1.0, 'Chi-Squared Scores of Features')"
      ]
     },
     "execution_count": 10,
     "metadata": {},
     "output_type": "execute_result"
    },
    {
     "data": {
      "image/png": "[encoded data removed]",
      "text/plain": [
       "<Figure size 1080x1800 with 1 Axes>"
      ]
     },
     "metadata": {
      "needs_background": "light"
     },
     "output_type": "display_data"
    }
   ],
   "source": [
    "# Plot the Chi2 scores\n",
    "fig, ax = plt.subplots(figsize=(15,25))\n",
    "\n",
    "sns.barplot(x = chi2_scores, y=chi2_scores.index)\n",
    "\n",
    "ax.set_xlabel('Chi-Squared Scores')\n",
    "ax.set_ylabel('Features')\n",
    "ax.set_title('Chi-Squared Scores of Features')"
   ]
  },
  {
   "cell_type": "code",
   "execution_count": 11,
   "id": "840de6c4",
   "metadata": {
    "execution": {
     "iopub.execute_input": "2021-08-03T14:30:07.747515Z",
     "iopub.status.busy": "2021-08-03T14:30:07.746578Z",
     "iopub.status.idle": "2021-08-03T14:30:07.751656Z",
     "shell.execute_reply": "2021-08-03T14:30:07.750877Z",
     "shell.execute_reply.started": "2021-08-03T03:37:36.267757Z"
    },
    "papermill": {
     "duration": 0.05086,
     "end_time": "2021-08-03T14:30:07.751807",
     "exception": false,
     "start_time": "2021-08-03T14:30:07.700947",
     "status": "completed"
    },
    "tags": []
   },
   "outputs": [
    {
     "data": {
      "text/plain": [
       "['cap-shape_c',\n",
       " 'cap-shape_f',\n",
       " 'cap-shape_x',\n",
       " 'cap-surface_g',\n",
       " 'cap-color_c',\n",
       " 'stalk-root_b',\n",
       " 'stalk-surface-above-ring_y',\n",
       " 'stalk-color-above-ring_y']"
      ]
     },
     "execution_count": 11,
     "metadata": {},
     "output_type": "execute_result"
    }
   ],
   "source": [
    "# These are the features that failed to reject the null hypothesis (p-value>0.05)\n",
    "features_to_drop"
   ]
  },
  {
   "cell_type": "code",
   "execution_count": 12,
   "id": "6b9d9abc",
   "metadata": {
    "execution": {
     "iopub.execute_input": "2021-08-03T14:30:07.832959Z",
     "iopub.status.busy": "2021-08-03T14:30:07.832000Z",
     "iopub.status.idle": "2021-08-03T14:30:07.854683Z",
     "shell.execute_reply": "2021-08-03T14:30:07.854081Z",
     "shell.execute_reply.started": "2021-08-03T04:08:03.362298Z"
    },
    "papermill": {
     "duration": 0.064927,
     "end_time": "2021-08-03T14:30:07.854834",
     "exception": false,
     "start_time": "2021-08-03T14:30:07.789907",
     "status": "completed"
    },
    "tags": []
   },
   "outputs": [
    {
     "data": {
      "text/html": [
       "<div>\n",
       "<style scoped>\n",
       "    .dataframe tbody tr th:only-of-type {\n",
       "        vertical-align: middle;\n",
       "    }\n",
       "\n",
       "    .dataframe tbody tr th {\n",
       "        vertical-align: top;\n",
       "    }\n",
       "\n",
       "    .dataframe thead th {\n",
       "        text-align: right;\n",
       "    }\n",
       "</style>\n",
       "<table border=\"1\" class=\"dataframe\">\n",
       "  <thead>\n",
       "    <tr style=\"text-align: right;\">\n",
       "      <th></th>\n",
       "      <th>cap-shape_b</th>\n",
       "      <th>cap-shape_k</th>\n",
       "      <th>cap-shape_s</th>\n",
       "      <th>cap-surface_f</th>\n",
       "      <th>cap-surface_s</th>\n",
       "      <th>cap-surface_y</th>\n",
       "      <th>cap-color_b</th>\n",
       "      <th>cap-color_e</th>\n",
       "      <th>cap-color_g</th>\n",
       "      <th>cap-color_n</th>\n",
       "      <th>...</th>\n",
       "      <th>population_s</th>\n",
       "      <th>population_v</th>\n",
       "      <th>population_y</th>\n",
       "      <th>habitat_d</th>\n",
       "      <th>habitat_g</th>\n",
       "      <th>habitat_l</th>\n",
       "      <th>habitat_m</th>\n",
       "      <th>habitat_p</th>\n",
       "      <th>habitat_u</th>\n",
       "      <th>habitat_w</th>\n",
       "    </tr>\n",
       "  </thead>\n",
       "  <tbody>\n",
       "    <tr>\n",
       "      <th>0</th>\n",
       "      <td>0</td>\n",
       "      <td>0</td>\n",
       "      <td>0</td>\n",
       "      <td>0</td>\n",
       "      <td>1</td>\n",
       "      <td>0</td>\n",
       "      <td>0</td>\n",
       "      <td>0</td>\n",
       "      <td>0</td>\n",
       "      <td>1</td>\n",
       "      <td>...</td>\n",
       "      <td>1</td>\n",
       "      <td>0</td>\n",
       "      <td>0</td>\n",
       "      <td>0</td>\n",
       "      <td>0</td>\n",
       "      <td>0</td>\n",
       "      <td>0</td>\n",
       "      <td>0</td>\n",
       "      <td>1</td>\n",
       "      <td>0</td>\n",
       "    </tr>\n",
       "    <tr>\n",
       "      <th>1</th>\n",
       "      <td>0</td>\n",
       "      <td>0</td>\n",
       "      <td>0</td>\n",
       "      <td>0</td>\n",
       "      <td>1</td>\n",
       "      <td>0</td>\n",
       "      <td>0</td>\n",
       "      <td>0</td>\n",
       "      <td>0</td>\n",
       "      <td>0</td>\n",
       "      <td>...</td>\n",
       "      <td>0</td>\n",
       "      <td>0</td>\n",
       "      <td>0</td>\n",
       "      <td>0</td>\n",
       "      <td>1</td>\n",
       "      <td>0</td>\n",
       "      <td>0</td>\n",
       "      <td>0</td>\n",
       "      <td>0</td>\n",
       "      <td>0</td>\n",
       "    </tr>\n",
       "    <tr>\n",
       "      <th>2</th>\n",
       "      <td>1</td>\n",
       "      <td>0</td>\n",
       "      <td>0</td>\n",
       "      <td>0</td>\n",
       "      <td>1</td>\n",
       "      <td>0</td>\n",
       "      <td>0</td>\n",
       "      <td>0</td>\n",
       "      <td>0</td>\n",
       "      <td>0</td>\n",
       "      <td>...</td>\n",
       "      <td>0</td>\n",
       "      <td>0</td>\n",
       "      <td>0</td>\n",
       "      <td>0</td>\n",
       "      <td>0</td>\n",
       "      <td>0</td>\n",
       "      <td>1</td>\n",
       "      <td>0</td>\n",
       "      <td>0</td>\n",
       "      <td>0</td>\n",
       "    </tr>\n",
       "    <tr>\n",
       "      <th>3</th>\n",
       "      <td>0</td>\n",
       "      <td>0</td>\n",
       "      <td>0</td>\n",
       "      <td>0</td>\n",
       "      <td>0</td>\n",
       "      <td>1</td>\n",
       "      <td>0</td>\n",
       "      <td>0</td>\n",
       "      <td>0</td>\n",
       "      <td>0</td>\n",
       "      <td>...</td>\n",
       "      <td>1</td>\n",
       "      <td>0</td>\n",
       "      <td>0</td>\n",
       "      <td>0</td>\n",
       "      <td>0</td>\n",
       "      <td>0</td>\n",
       "      <td>0</td>\n",
       "      <td>0</td>\n",
       "      <td>1</td>\n",
       "      <td>0</td>\n",
       "    </tr>\n",
       "    <tr>\n",
       "      <th>4</th>\n",
       "      <td>0</td>\n",
       "      <td>0</td>\n",
       "      <td>0</td>\n",
       "      <td>0</td>\n",
       "      <td>1</td>\n",
       "      <td>0</td>\n",
       "      <td>0</td>\n",
       "      <td>0</td>\n",
       "      <td>1</td>\n",
       "      <td>0</td>\n",
       "      <td>...</td>\n",
       "      <td>0</td>\n",
       "      <td>0</td>\n",
       "      <td>0</td>\n",
       "      <td>0</td>\n",
       "      <td>1</td>\n",
       "      <td>0</td>\n",
       "      <td>0</td>\n",
       "      <td>0</td>\n",
       "      <td>0</td>\n",
       "      <td>0</td>\n",
       "    </tr>\n",
       "  </tbody>\n",
       "</table>\n",
       "<p>5 rows × 108 columns</p>\n",
       "</div>"
      ],
      "text/plain": [
       "   cap-shape_b  cap-shape_k  cap-shape_s  cap-surface_f  cap-surface_s  \\\n",
       "0            0            0            0              0              1   \n",
       "1            0            0            0              0              1   \n",
       "2            1            0            0              0              1   \n",
       "3            0            0            0              0              0   \n",
       "4            0            0            0              0              1   \n",
       "\n",
       "   cap-surface_y  cap-color_b  cap-color_e  cap-color_g  cap-color_n  ...  \\\n",
       "0              0            0            0            0            1  ...   \n",
       "1              0            0            0            0            0  ...   \n",
       "2              0            0            0            0            0  ...   \n",
       "3              1            0            0            0            0  ...   \n",
       "4              0            0            0            1            0  ...   \n",
       "\n",
       "   population_s  population_v  population_y  habitat_d  habitat_g  habitat_l  \\\n",
       "0             1             0             0          0          0          0   \n",
       "1             0             0             0          0          1          0   \n",
       "2             0             0             0          0          0          0   \n",
       "3             1             0             0          0          0          0   \n",
       "4             0             0             0          0          1          0   \n",
       "\n",
       "   habitat_m  habitat_p  habitat_u  habitat_w  \n",
       "0          0          0          1          0  \n",
       "1          0          0          0          0  \n",
       "2          1          0          0          0  \n",
       "3          0          0          1          0  \n",
       "4          0          0          0          0  \n",
       "\n",
       "[5 rows x 108 columns]"
      ]
     },
     "execution_count": 12,
     "metadata": {},
     "output_type": "execute_result"
    }
   ],
   "source": [
    "# Dropping failed features\n",
    "X_chi2 = X.drop(features_to_drop, axis=1)\n",
    "X_chi2.head()"
   ]
  },
  {
   "cell_type": "markdown",
   "id": "c9310d13",
   "metadata": {
    "papermill": {
     "duration": 0.038293,
     "end_time": "2021-08-03T14:30:07.932064",
     "exception": false,
     "start_time": "2021-08-03T14:30:07.893771",
     "status": "completed"
    },
    "tags": []
   },
   "source": [
    "### Mutual Information method of Feature Selection\n",
    "\n",
    "Mutual Information measures the non-linear relationship between two variables. We will be calculating a score for mutual information and build a model with the selected features."
   ]
  },
  {
   "cell_type": "code",
   "execution_count": 13,
   "id": "d5babf98",
   "metadata": {
    "execution": {
     "iopub.execute_input": "2021-08-03T14:30:08.017992Z",
     "iopub.status.busy": "2021-08-03T14:30:08.017065Z",
     "iopub.status.idle": "2021-08-03T14:30:17.213527Z",
     "shell.execute_reply": "2021-08-03T14:30:17.212832Z",
     "shell.execute_reply.started": "2021-08-03T03:51:32.416446Z"
    },
    "papermill": {
     "duration": 9.241109,
     "end_time": "2021-08-03T14:30:17.213691",
     "exception": false,
     "start_time": "2021-08-03T14:30:07.972582",
     "status": "completed"
    },
    "tags": []
   },
   "outputs": [
    {
     "data": {
      "text/plain": [
       "odor_n                        0.361551\n",
       "odor_f                        0.251299\n",
       "stalk-surface-above-ring_k    0.191785\n",
       "stalk-surface-below-ring_k    0.189246\n",
       "gill-color_b                  0.179211\n",
       "                                ...   \n",
       "cap-shape_x                   0.000000\n",
       "cap-color_p                   0.000000\n",
       "ring-type_f                   0.000000\n",
       "cap-color_c                   0.000000\n",
       "stalk-root_b                  0.000000\n",
       "Name: MI Scores, Length: 116, dtype: float64"
      ]
     },
     "execution_count": 13,
     "metadata": {},
     "output_type": "execute_result"
    }
   ],
   "source": [
    "# Mutual Information\n",
    "mi_scores = mutual_info_classif(X, y[0])\n",
    "mi_scores = pd.Series(mi_scores, name=\"MI Scores\", index=X.columns)\n",
    "mi_scores = mi_scores.sort_values(ascending=False)\n",
    "mi_scores"
   ]
  },
  {
   "cell_type": "code",
   "execution_count": 14,
   "id": "a6a9b59f",
   "metadata": {
    "execution": {
     "iopub.execute_input": "2021-08-03T14:30:17.319314Z",
     "iopub.status.busy": "2021-08-03T14:30:17.310944Z",
     "iopub.status.idle": "2021-08-03T14:30:20.164704Z",
     "shell.execute_reply": "2021-08-03T14:30:20.165191Z",
     "shell.execute_reply.started": "2021-08-03T03:40:27.38186Z"
    },
    "papermill": {
     "duration": 2.912924,
     "end_time": "2021-08-03T14:30:20.165393",
     "exception": false,
     "start_time": "2021-08-03T14:30:17.252469",
     "status": "completed"
    },
    "tags": []
   },
   "outputs": [
    {
     "data": {
      "text/plain": [
       "Text(0.5, 1.0, 'MI Score')"
      ]
     },
     "execution_count": 14,
     "metadata": {},
     "output_type": "execute_result"
    },
    {
     "data": {
      "image/png": "[encoded data removed]",
      "text/plain": [
       "<Figure size 1080x1800 with 1 Axes>"
      ]
     },
     "metadata": {
      "needs_background": "light"
     },
     "output_type": "display_data"
    }
   ],
   "source": [
    "# Plot the Chi2 scores\n",
    "fig, ax = plt.subplots(figsize=(15,25))\n",
    "\n",
    "sns.barplot(x = mi_scores, y=mi_scores.index)\n",
    "\n",
    "ax.set_xlabel('Mutual Information Scores')\n",
    "ax.set_ylabel('Features')\n",
    "ax.set_title('MI Score')"
   ]
  },
  {
   "cell_type": "code",
   "execution_count": 15,
   "id": "3fca90a7",
   "metadata": {
    "execution": {
     "iopub.execute_input": "2021-08-03T14:30:20.257662Z",
     "iopub.status.busy": "2021-08-03T14:30:20.256815Z",
     "iopub.status.idle": "2021-08-03T14:30:20.261025Z",
     "shell.execute_reply": "2021-08-03T14:30:20.260421Z",
     "shell.execute_reply.started": "2021-08-03T04:01:07.901724Z"
    },
    "papermill": {
     "duration": 0.053039,
     "end_time": "2021-08-03T14:30:20.261163",
     "exception": false,
     "start_time": "2021-08-03T14:30:20.208124",
     "status": "completed"
    },
    "tags": []
   },
   "outputs": [
    {
     "data": {
      "text/plain": [
       "['cap-color_r',\n",
       " 'cap-shape_f',\n",
       " 'cap-color_u',\n",
       " 'cap-color_y',\n",
       " 'odor_m',\n",
       " 'cap-shape_s',\n",
       " 'veil-color_y',\n",
       " 'cap-shape_x',\n",
       " 'cap-color_p',\n",
       " 'ring-type_f',\n",
       " 'cap-color_c',\n",
       " 'stalk-root_b']"
      ]
     },
     "execution_count": 15,
     "metadata": {},
     "output_type": "execute_result"
    }
   ],
   "source": [
    "# Lets find redundant and non-relevant features\n",
    "duplicates = mi_scores.duplicated()\n",
    "\n",
    "bad_features = [x for x in duplicates.index if (duplicates[x]==True)]\n",
    "bad_features"
   ]
  },
  {
   "cell_type": "code",
   "execution_count": 16,
   "id": "af77e066",
   "metadata": {
    "execution": {
     "iopub.execute_input": "2021-08-03T14:30:20.351628Z",
     "iopub.status.busy": "2021-08-03T14:30:20.350943Z",
     "iopub.status.idle": "2021-08-03T14:30:20.368688Z",
     "shell.execute_reply": "2021-08-03T14:30:20.368057Z",
     "shell.execute_reply.started": "2021-08-03T04:07:04.4414Z"
    },
    "papermill": {
     "duration": 0.065014,
     "end_time": "2021-08-03T14:30:20.368828",
     "exception": false,
     "start_time": "2021-08-03T14:30:20.303814",
     "status": "completed"
    },
    "tags": []
   },
   "outputs": [
    {
     "data": {
      "text/html": [
       "<div>\n",
       "<style scoped>\n",
       "    .dataframe tbody tr th:only-of-type {\n",
       "        vertical-align: middle;\n",
       "    }\n",
       "\n",
       "    .dataframe tbody tr th {\n",
       "        vertical-align: top;\n",
       "    }\n",
       "\n",
       "    .dataframe thead th {\n",
       "        text-align: right;\n",
       "    }\n",
       "</style>\n",
       "<table border=\"1\" class=\"dataframe\">\n",
       "  <thead>\n",
       "    <tr style=\"text-align: right;\">\n",
       "      <th></th>\n",
       "      <th>cap-shape_b</th>\n",
       "      <th>cap-shape_c</th>\n",
       "      <th>cap-shape_k</th>\n",
       "      <th>cap-surface_f</th>\n",
       "      <th>cap-surface_g</th>\n",
       "      <th>cap-surface_s</th>\n",
       "      <th>cap-surface_y</th>\n",
       "      <th>cap-color_b</th>\n",
       "      <th>cap-color_e</th>\n",
       "      <th>cap-color_g</th>\n",
       "      <th>...</th>\n",
       "      <th>population_s</th>\n",
       "      <th>population_v</th>\n",
       "      <th>population_y</th>\n",
       "      <th>habitat_d</th>\n",
       "      <th>habitat_g</th>\n",
       "      <th>habitat_l</th>\n",
       "      <th>habitat_m</th>\n",
       "      <th>habitat_p</th>\n",
       "      <th>habitat_u</th>\n",
       "      <th>habitat_w</th>\n",
       "    </tr>\n",
       "  </thead>\n",
       "  <tbody>\n",
       "    <tr>\n",
       "      <th>0</th>\n",
       "      <td>0</td>\n",
       "      <td>0</td>\n",
       "      <td>0</td>\n",
       "      <td>0</td>\n",
       "      <td>0</td>\n",
       "      <td>1</td>\n",
       "      <td>0</td>\n",
       "      <td>0</td>\n",
       "      <td>0</td>\n",
       "      <td>0</td>\n",
       "      <td>...</td>\n",
       "      <td>1</td>\n",
       "      <td>0</td>\n",
       "      <td>0</td>\n",
       "      <td>0</td>\n",
       "      <td>0</td>\n",
       "      <td>0</td>\n",
       "      <td>0</td>\n",
       "      <td>0</td>\n",
       "      <td>1</td>\n",
       "      <td>0</td>\n",
       "    </tr>\n",
       "    <tr>\n",
       "      <th>1</th>\n",
       "      <td>0</td>\n",
       "      <td>0</td>\n",
       "      <td>0</td>\n",
       "      <td>0</td>\n",
       "      <td>0</td>\n",
       "      <td>1</td>\n",
       "      <td>0</td>\n",
       "      <td>0</td>\n",
       "      <td>0</td>\n",
       "      <td>0</td>\n",
       "      <td>...</td>\n",
       "      <td>0</td>\n",
       "      <td>0</td>\n",
       "      <td>0</td>\n",
       "      <td>0</td>\n",
       "      <td>1</td>\n",
       "      <td>0</td>\n",
       "      <td>0</td>\n",
       "      <td>0</td>\n",
       "      <td>0</td>\n",
       "      <td>0</td>\n",
       "    </tr>\n",
       "    <tr>\n",
       "      <th>2</th>\n",
       "      <td>1</td>\n",
       "      <td>0</td>\n",
       "      <td>0</td>\n",
       "      <td>0</td>\n",
       "      <td>0</td>\n",
       "      <td>1</td>\n",
       "      <td>0</td>\n",
       "      <td>0</td>\n",
       "      <td>0</td>\n",
       "      <td>0</td>\n",
       "      <td>...</td>\n",
       "      <td>0</td>\n",
       "      <td>0</td>\n",
       "      <td>0</td>\n",
       "      <td>0</td>\n",
       "      <td>0</td>\n",
       "      <td>0</td>\n",
       "      <td>1</td>\n",
       "      <td>0</td>\n",
       "      <td>0</td>\n",
       "      <td>0</td>\n",
       "    </tr>\n",
       "    <tr>\n",
       "      <th>3</th>\n",
       "      <td>0</td>\n",
       "      <td>0</td>\n",
       "      <td>0</td>\n",
       "      <td>0</td>\n",
       "      <td>0</td>\n",
       "      <td>0</td>\n",
       "      <td>1</td>\n",
       "      <td>0</td>\n",
       "      <td>0</td>\n",
       "      <td>0</td>\n",
       "      <td>...</td>\n",
       "      <td>1</td>\n",
       "      <td>0</td>\n",
       "      <td>0</td>\n",
       "      <td>0</td>\n",
       "      <td>0</td>\n",
       "      <td>0</td>\n",
       "      <td>0</td>\n",
       "      <td>0</td>\n",
       "      <td>1</td>\n",
       "      <td>0</td>\n",
       "    </tr>\n",
       "    <tr>\n",
       "      <th>4</th>\n",
       "      <td>0</td>\n",
       "      <td>0</td>\n",
       "      <td>0</td>\n",
       "      <td>0</td>\n",
       "      <td>0</td>\n",
       "      <td>1</td>\n",
       "      <td>0</td>\n",
       "      <td>0</td>\n",
       "      <td>0</td>\n",
       "      <td>1</td>\n",
       "      <td>...</td>\n",
       "      <td>0</td>\n",
       "      <td>0</td>\n",
       "      <td>0</td>\n",
       "      <td>0</td>\n",
       "      <td>1</td>\n",
       "      <td>0</td>\n",
       "      <td>0</td>\n",
       "      <td>0</td>\n",
       "      <td>0</td>\n",
       "      <td>0</td>\n",
       "    </tr>\n",
       "  </tbody>\n",
       "</table>\n",
       "<p>5 rows × 104 columns</p>\n",
       "</div>"
      ],
      "text/plain": [
       "   cap-shape_b  cap-shape_c  cap-shape_k  cap-surface_f  cap-surface_g  \\\n",
       "0            0            0            0              0              0   \n",
       "1            0            0            0              0              0   \n",
       "2            1            0            0              0              0   \n",
       "3            0            0            0              0              0   \n",
       "4            0            0            0              0              0   \n",
       "\n",
       "   cap-surface_s  cap-surface_y  cap-color_b  cap-color_e  cap-color_g  ...  \\\n",
       "0              1              0            0            0            0  ...   \n",
       "1              1              0            0            0            0  ...   \n",
       "2              1              0            0            0            0  ...   \n",
       "3              0              1            0            0            0  ...   \n",
       "4              1              0            0            0            1  ...   \n",
       "\n",
       "   population_s  population_v  population_y  habitat_d  habitat_g  habitat_l  \\\n",
       "0             1             0             0          0          0          0   \n",
       "1             0             0             0          0          1          0   \n",
       "2             0             0             0          0          0          0   \n",
       "3             1             0             0          0          0          0   \n",
       "4             0             0             0          0          1          0   \n",
       "\n",
       "   habitat_m  habitat_p  habitat_u  habitat_w  \n",
       "0          0          0          1          0  \n",
       "1          0          0          0          0  \n",
       "2          1          0          0          0  \n",
       "3          0          0          1          0  \n",
       "4          0          0          0          0  \n",
       "\n",
       "[5 rows x 104 columns]"
      ]
     },
     "execution_count": 16,
     "metadata": {},
     "output_type": "execute_result"
    }
   ],
   "source": [
    "X_mi = X.drop(bad_features, axis=1)\n",
    "X_mi.head()"
   ]
  },
  {
   "cell_type": "code",
   "execution_count": 17,
   "id": "87dfe144",
   "metadata": {
    "execution": {
     "iopub.execute_input": "2021-08-03T14:30:20.461369Z",
     "iopub.status.busy": "2021-08-03T14:30:20.460711Z",
     "iopub.status.idle": "2021-08-03T14:30:20.467020Z",
     "shell.execute_reply": "2021-08-03T14:30:20.466383Z",
     "shell.execute_reply.started": "2021-08-03T04:03:40.09373Z"
    },
    "papermill": {
     "duration": 0.055676,
     "end_time": "2021-08-03T14:30:20.467206",
     "exception": false,
     "start_time": "2021-08-03T14:30:20.411530",
     "status": "completed"
    },
    "tags": []
   },
   "outputs": [
    {
     "data": {
      "text/plain": [
       "{'cap-color_c', 'cap-shape_f', 'cap-shape_x', 'stalk-root_b'}"
      ]
     },
     "execution_count": 17,
     "metadata": {},
     "output_type": "execute_result"
    }
   ],
   "source": [
    "# Common dropped features from Chi2 test and MI test\n",
    "common_bad_features = set(features_to_drop) & set(bad_features)\n",
    "common_bad_features"
   ]
  },
  {
   "cell_type": "markdown",
   "id": "0a238def",
   "metadata": {
    "papermill": {
     "duration": 0.045584,
     "end_time": "2021-08-03T14:30:20.558733",
     "exception": false,
     "start_time": "2021-08-03T14:30:20.513149",
     "status": "completed"
    },
    "tags": []
   },
   "source": [
    "### Summary\n",
    "\n",
    "Of the dropped features between the two modified input data, we had 4 common features. \n",
    "\n",
    "One thing I did not consider for the mutual information test was testing for interaction variables. Just because the features were not correlated to the target variable does not mean they can have some relationship with the other features. "
   ]
  },
  {
   "cell_type": "markdown",
   "id": "e82fcdb0",
   "metadata": {
    "papermill": {
     "duration": 0.045077,
     "end_time": "2021-08-03T14:30:20.652140",
     "exception": false,
     "start_time": "2021-08-03T14:30:20.607063",
     "status": "completed"
    },
    "tags": []
   },
   "source": [
    "# 3. Model Building\n",
    "\n",
    "The algorithm we will use for modeling is Random Forest. To increase robustness of the model, I will perform cross validation to get a mean accuracy between 5 folds of training and testing data. Also, all feature selection data sets will be tested, and the performance will be compared.\n",
    "\n",
    "### Baseline Model"
   ]
  },
  {
   "cell_type": "code",
   "execution_count": 18,
   "id": "1c047bc9",
   "metadata": {
    "execution": {
     "iopub.execute_input": "2021-08-03T14:30:20.756234Z",
     "iopub.status.busy": "2021-08-03T14:30:20.755235Z",
     "iopub.status.idle": "2021-08-03T14:30:21.271130Z",
     "shell.execute_reply": "2021-08-03T14:30:21.271623Z",
     "shell.execute_reply.started": "2021-08-03T04:32:11.193468Z"
    },
    "papermill": {
     "duration": 0.570736,
     "end_time": "2021-08-03T14:30:21.271816",
     "exception": false,
     "start_time": "2021-08-03T14:30:20.701080",
     "status": "completed"
    },
    "tags": []
   },
   "outputs": [
    {
     "name": "stdout",
     "output_type": "stream",
     "text": [
      "              precision    recall  f1-score   support\n",
      "\n",
      "           0       1.00      1.00      1.00       970\n",
      "           1       1.00      1.00      1.00      1061\n",
      "\n",
      "    accuracy                           1.00      2031\n",
      "   macro avg       1.00      1.00      1.00      2031\n",
      "weighted avg       1.00      1.00      1.00      2031\n",
      "\n"
     ]
    }
   ],
   "source": [
    "# Separate training and testing data\n",
    "X_train, X_test, y_train, y_test = train_test_split(X, y[0], test_size=0.25, random_state=0)\n",
    "\n",
    "# Baseline Random Forest with default parameters\n",
    "model = RandomForestClassifier(random_state=0)\n",
    "fit = model.fit(X_train, y_train)\n",
    "predictions = fit.predict(X_test)\n",
    "print(classification_report(predictions, y_test))"
   ]
  },
  {
   "cell_type": "markdown",
   "id": "3ba65e28",
   "metadata": {
    "papermill": {
     "duration": 0.045527,
     "end_time": "2021-08-03T14:30:21.360946",
     "exception": false,
     "start_time": "2021-08-03T14:30:21.315419",
     "status": "completed"
    },
    "tags": []
   },
   "source": [
    "Interestingly enough, we got an accuracy of 100% which does not seem very reasonable. I will conduct a 5 fold CV on the default model to get a more robust accuracy."
   ]
  },
  {
   "cell_type": "code",
   "execution_count": 19,
   "id": "14edd377",
   "metadata": {
    "execution": {
     "iopub.execute_input": "2021-08-03T14:30:21.459828Z",
     "iopub.status.busy": "2021-08-03T14:30:21.458782Z",
     "iopub.status.idle": "2021-08-03T14:30:23.736784Z",
     "shell.execute_reply": "2021-08-03T14:30:23.736039Z",
     "shell.execute_reply.started": "2021-08-03T04:31:19.148914Z"
    },
    "papermill": {
     "duration": 2.327765,
     "end_time": "2021-08-03T14:30:23.736963",
     "exception": false,
     "start_time": "2021-08-03T14:30:21.409198",
     "status": "completed"
    },
    "tags": []
   },
   "outputs": [
    {
     "name": "stdout",
     "output_type": "stream",
     "text": [
      "Average accuracy of base model:  0.9257583175445244\n"
     ]
    }
   ],
   "source": [
    "# 5 fold CV of default Random Forest model\n",
    "score = cross_val_score(\n",
    "    model, X, y[0], cv=5, scoring='accuracy'\n",
    ")\n",
    "print('Average accuracy of base model: ', score.mean())"
   ]
  },
  {
   "cell_type": "code",
   "execution_count": 20,
   "id": "fcfd2a1c",
   "metadata": {
    "execution": {
     "iopub.execute_input": "2021-08-03T14:30:23.832965Z",
     "iopub.status.busy": "2021-08-03T14:30:23.832006Z",
     "iopub.status.idle": "2021-08-03T14:30:24.289392Z",
     "shell.execute_reply": "2021-08-03T14:30:24.288510Z",
     "shell.execute_reply.started": "2021-08-03T04:38:21.933775Z"
    },
    "papermill": {
     "duration": 0.508552,
     "end_time": "2021-08-03T14:30:24.289636",
     "exception": false,
     "start_time": "2021-08-03T14:30:23.781084",
     "status": "completed"
    },
    "tags": []
   },
   "outputs": [
    {
     "name": "stdout",
     "output_type": "stream",
     "text": [
      "              precision    recall  f1-score   support\n",
      "\n",
      "           0       1.00      1.00      1.00       970\n",
      "           1       1.00      1.00      1.00      1061\n",
      "\n",
      "    accuracy                           1.00      2031\n",
      "   macro avg       1.00      1.00      1.00      2031\n",
      "weighted avg       1.00      1.00      1.00      2031\n",
      "\n"
     ]
    }
   ],
   "source": [
    "# Separate training and testing data for the chi2 features\n",
    "Xchi_train, Xchi_test, y_train, y_test = train_test_split(X_chi2, y[0], test_size=0.25, random_state=0)\n",
    "\n",
    "# Chi 2 features model\n",
    "fit_chi = model.fit(Xchi_train, y_train)\n",
    "predictions_chi = fit_chi.predict(Xchi_test)\n",
    "print(classification_report(predictions_chi, y_test))"
   ]
  },
  {
   "cell_type": "markdown",
   "id": "2aa799b4",
   "metadata": {
    "papermill": {
     "duration": 0.046964,
     "end_time": "2021-08-03T14:30:24.384926",
     "exception": false,
     "start_time": "2021-08-03T14:30:24.337962",
     "status": "completed"
    },
    "tags": []
   },
   "source": [
    "Again, we have a 100% accuracy but for the chi2 model. Lets try 5-fold CV."
   ]
  },
  {
   "cell_type": "code",
   "execution_count": 21,
   "id": "2d318133",
   "metadata": {
    "execution": {
     "iopub.execute_input": "2021-08-03T14:30:24.480424Z",
     "iopub.status.busy": "2021-08-03T14:30:24.479362Z",
     "iopub.status.idle": "2021-08-03T14:30:26.707953Z",
     "shell.execute_reply": "2021-08-03T14:30:26.707163Z",
     "shell.execute_reply.started": "2021-08-03T04:39:22.8243Z"
    },
    "papermill": {
     "duration": 2.277731,
     "end_time": "2021-08-03T14:30:26.708117",
     "exception": false,
     "start_time": "2021-08-03T14:30:24.430386",
     "status": "completed"
    },
    "tags": []
   },
   "outputs": [
    {
     "name": "stdout",
     "output_type": "stream",
     "text": [
      "Average accuracy of chi2 model:  0.9173839333080712\n"
     ]
    }
   ],
   "source": [
    "# 5 fold CV of Chi2 Random Forest model\n",
    "score = cross_val_score(\n",
    "    model, X_chi2, y[0], cv=5, scoring='accuracy'\n",
    ")\n",
    "print('Average accuracy of chi2 model: ', score.mean())"
   ]
  },
  {
   "cell_type": "code",
   "execution_count": 22,
   "id": "da1754bf",
   "metadata": {
    "execution": {
     "iopub.execute_input": "2021-08-03T14:30:26.812226Z",
     "iopub.status.busy": "2021-08-03T14:30:26.811226Z",
     "iopub.status.idle": "2021-08-03T14:30:29.023227Z",
     "shell.execute_reply": "2021-08-03T14:30:29.023812Z",
     "shell.execute_reply.started": "2021-08-03T04:41:29.107558Z"
    },
    "papermill": {
     "duration": 2.268882,
     "end_time": "2021-08-03T14:30:29.024013",
     "exception": false,
     "start_time": "2021-08-03T14:30:26.755131",
     "status": "completed"
    },
    "tags": []
   },
   "outputs": [
    {
     "name": "stdout",
     "output_type": "stream",
     "text": [
      "Average accuracy of MI model:  0.9276056081849186\n"
     ]
    }
   ],
   "source": [
    "# 5 fold CV of MI Random Forest model\n",
    "score = cross_val_score(\n",
    "    model, X_mi, y[0], cv=5, scoring='accuracy'\n",
    ")\n",
    "print('Average accuracy of MI model: ', score.mean())"
   ]
  },
  {
   "cell_type": "markdown",
   "id": "4eb4dc4a",
   "metadata": {
    "papermill": {
     "duration": 0.045369,
     "end_time": "2021-08-03T14:30:29.117674",
     "exception": false,
     "start_time": "2021-08-03T14:30:29.072305",
     "status": "completed"
    },
    "tags": []
   },
   "source": [
    "With default parameters for the model, we have a slight improvement in accuracy for the MI input data, while a slight decrease in accuracy for the Chi2 input.\n",
    "\n",
    "Let's try them with 50 trees now in the random forest."
   ]
  },
  {
   "cell_type": "code",
   "execution_count": 23,
   "id": "91dc38eb",
   "metadata": {
    "execution": {
     "iopub.execute_input": "2021-08-03T14:30:29.214594Z",
     "iopub.status.busy": "2021-08-03T14:30:29.213777Z",
     "iopub.status.idle": "2021-08-03T14:30:32.887274Z",
     "shell.execute_reply": "2021-08-03T14:30:32.886601Z",
     "shell.execute_reply.started": "2021-08-03T04:50:30.09546Z"
    },
    "papermill": {
     "duration": 3.722573,
     "end_time": "2021-08-03T14:30:32.887455",
     "exception": false,
     "start_time": "2021-08-03T14:30:29.164882",
     "status": "completed"
    },
    "tags": []
   },
   "outputs": [
    {
     "name": "stdout",
     "output_type": "stream",
     "text": [
      "Average accuracy of base model (50 trees): 0.9332706328154604\n",
      "Average accuracy of chi2 model (50 trees): 0.9219405835543768\n",
      "Average accuracy of MI model (50 trees): 0.9345021599090565\n"
     ]
    }
   ],
   "source": [
    "model_50 = RandomForestClassifier(n_estimators=50, random_state=0)\n",
    "\n",
    "# 5 fold CV of default Random Forest model\n",
    "score = cross_val_score(\n",
    "    model_50, X, y[0], cv=5, scoring='accuracy'\n",
    ")\n",
    "print('Average accuracy of base model (50 trees):', score.mean())\n",
    "\n",
    "# 5 fold CV of Chi2 Random Forest model\n",
    "score = cross_val_score(\n",
    "    model_50, X_chi2, y[0], cv=5, scoring='accuracy'\n",
    ")\n",
    "print('Average accuracy of chi2 model (50 trees):', score.mean())\n",
    "\n",
    "# 5 fold CV of MI Random Forest model\n",
    "score = cross_val_score(\n",
    "    model_50, X_mi, y[0], cv=5, scoring='accuracy'\n",
    ")\n",
    "print('Average accuracy of MI model (50 trees):', score.mean())"
   ]
  },
  {
   "cell_type": "markdown",
   "id": "b1d5cf39",
   "metadata": {
    "papermill": {
     "duration": 0.045143,
     "end_time": "2021-08-03T14:30:32.979321",
     "exception": false,
     "start_time": "2021-08-03T14:30:32.934178",
     "status": "completed"
    },
    "tags": []
   },
   "source": [
    "Even with a random forest with 50 trees, our MI model still comes out on top with the Chi2 on the bottom again.\n",
    "\n",
    "Lets try to optimize the n_estimators parameter such that we are not under nor over fitting the data."
   ]
  },
  {
   "cell_type": "code",
   "execution_count": 24,
   "id": "59a9eb42",
   "metadata": {
    "execution": {
     "iopub.execute_input": "2021-08-03T14:30:33.078609Z",
     "iopub.status.busy": "2021-08-03T14:30:33.077888Z",
     "iopub.status.idle": "2021-08-03T14:30:45.182241Z",
     "shell.execute_reply": "2021-08-03T14:30:45.182796Z",
     "shell.execute_reply.started": "2021-08-03T05:01:43.854788Z"
    },
    "papermill": {
     "duration": 12.156943,
     "end_time": "2021-08-03T14:30:45.182977",
     "exception": false,
     "start_time": "2021-08-03T14:30:33.026034",
     "status": "completed"
    },
    "tags": []
   },
   "outputs": [
    {
     "name": "stdout",
     "output_type": "stream",
     "text": [
      "Average accuracy of MI model ( 10 trees): 0.8883198938992043\n",
      "Average accuracy of MI model ( 20 trees): 0.9145514209928003\n",
      "Average accuracy of MI model ( 30 trees): 0.9236647214854111\n",
      "Average accuracy of MI model ( 40 trees): 0.936226297840091\n",
      "Average accuracy of MI model ( 50 trees): 0.9345021599090565\n",
      "Average accuracy of MI model ( 60 trees): 0.9301918150814703\n",
      "Average accuracy of MI model ( 70 trees): 0.9348716180371353\n",
      "Average accuracy of MI model ( 80 trees): 0.9273593027661994\n",
      "Average accuracy of MI model ( 90 trees): 0.9283445244410762\n",
      "Average accuracy of MI model ( 100 trees): 0.9276056081849186\n"
     ]
    }
   ],
   "source": [
    "n_estimators = [10,20,30,40,50,60,70,80,90,100]\n",
    "mean_scores = []\n",
    "for i in n_estimators:\n",
    "    model = RandomForestClassifier(n_estimators=i, random_state=0)\n",
    "    score = cross_val_score(\n",
    "    model, X_mi, y[0], cv=5, scoring='accuracy'\n",
    "    )\n",
    "    mean_scores.append(score.mean())\n",
    "    print('Average accuracy of MI model (',i,'trees):', score.mean())"
   ]
  },
  {
   "cell_type": "code",
   "execution_count": 25,
   "id": "a764abfa",
   "metadata": {
    "execution": {
     "iopub.execute_input": "2021-08-03T14:30:45.295712Z",
     "iopub.status.busy": "2021-08-03T14:30:45.289530Z",
     "iopub.status.idle": "2021-08-03T14:30:45.500473Z",
     "shell.execute_reply": "2021-08-03T14:30:45.499792Z",
     "shell.execute_reply.started": "2021-08-03T05:06:51.279404Z"
    },
    "papermill": {
     "duration": 0.266612,
     "end_time": "2021-08-03T14:30:45.500644",
     "exception": false,
     "start_time": "2021-08-03T14:30:45.234032",
     "status": "completed"
    },
    "tags": []
   },
   "outputs": [
    {
     "data": {
      "text/plain": [
       "Text(0.5, 1.0, 'Accuracy of different n_estimators (5 fold CV)')"
      ]
     },
     "execution_count": 25,
     "metadata": {},
     "output_type": "execute_result"
    },
    {
     "data": {
      "image/png": "[encoded data removed]",
      "text/plain": [
       "<Figure size 864x576 with 1 Axes>"
      ]
     },
     "metadata": {
      "needs_background": "light"
     },
     "output_type": "display_data"
    }
   ],
   "source": [
    "mean_scores = pd.Series(mean_scores, index=n_estimators)\n",
    "\n",
    "# Plot the CV scores\n",
    "fig, ax = plt.subplots(figsize=(12,8))\n",
    "\n",
    "sns.lineplot(x = mean_scores.index, y=mean_scores)\n",
    "\n",
    "ax.set_ylabel('Accuracy')\n",
    "ax.set_xlabel('# of n_estimators')\n",
    "ax.set_title('Accuracy of different n_estimators (5 fold CV)')"
   ]
  },
  {
   "cell_type": "markdown",
   "id": "360a6a27",
   "metadata": {
    "papermill": {
     "duration": 0.050223,
     "end_time": "2021-08-03T14:30:45.606571",
     "exception": false,
     "start_time": "2021-08-03T14:30:45.556348",
     "status": "completed"
    },
    "tags": []
   },
   "source": [
    "We got an optimal number of estimators of 50. Now compare the accuracy with different k-folds."
   ]
  },
  {
   "cell_type": "code",
   "execution_count": 26,
   "id": "dac62218",
   "metadata": {
    "execution": {
     "iopub.execute_input": "2021-08-03T14:30:45.717506Z",
     "iopub.status.busy": "2021-08-03T14:30:45.716827Z",
     "iopub.status.idle": "2021-08-03T14:31:52.754418Z",
     "shell.execute_reply": "2021-08-03T14:31:52.753761Z",
     "shell.execute_reply.started": "2021-08-03T05:19:29.949189Z"
    },
    "papermill": {
     "duration": 67.097509,
     "end_time": "2021-08-03T14:31:52.754579",
     "exception": false,
     "start_time": "2021-08-03T14:30:45.657070",
     "status": "completed"
    },
    "tags": []
   },
   "outputs": [
    {
     "data": {
      "text/plain": [
       "Text(0.5, 1.0, 'Accuracy vs number of k-folds')"
      ]
     },
     "execution_count": 26,
     "metadata": {},
     "output_type": "execute_result"
    },
    {
     "data": {
      "image/png": "[encoded data removed]",
      "text/plain": [
       "<Figure size 864x576 with 1 Axes>"
      ]
     },
     "metadata": {
      "needs_background": "light"
     },
     "output_type": "display_data"
    }
   ],
   "source": [
    "# MI model CV with different k-folds\n",
    "accuracies = []\n",
    "model = RandomForestClassifier(n_estimators=50, random_state=0)\n",
    "for i in range(5,55,5):\n",
    "    score = cross_val_score(\n",
    "    model, X_mi, y[0], cv=i, scoring='accuracy'\n",
    "    )\n",
    "    accuracies.append(score.mean())\n",
    "    \n",
    "accuracies = pd.Series(accuracies, index=np.arange(5,55,5))\n",
    "\n",
    "# Plot the CV scores\n",
    "fig, ax = plt.subplots(figsize=(12,8))\n",
    "\n",
    "sns.lineplot(x = accuracies.index, y=accuracies)\n",
    "\n",
    "ax.set_ylabel('Accuracy')\n",
    "ax.set_xlabel('# of folds')\n",
    "ax.set_title('Accuracy vs number of k-folds')"
   ]
  },
  {
   "cell_type": "markdown",
   "id": "ef9ffb9a",
   "metadata": {
    "papermill": {
     "duration": 0.051823,
     "end_time": "2021-08-03T14:31:52.858862",
     "exception": false,
     "start_time": "2021-08-03T14:31:52.807039",
     "status": "completed"
    },
    "tags": []
   },
   "source": [
    "# Conclusion\n",
    "\n",
    "Building a model based on the features selected from Mutual information resulted in the best performance compared to Chi-squared and default. Also, one thing I realize is that I split the training and testing data after modifying the data. Normally I would split the data first, but since I did not really alter any values (imputation), I do not think it would make a difference.\n",
    "\n",
    "\n",
    "# Question for the Community\n",
    "\n",
    "I'm under the impression that \"leave one out\" cross validation is preferred for smaller datasets, however I am getting a 100% accuracy on anything past 25 fold CV. Is this a case of overfitting, or is it just the dataset?"
   ]
  }
 ],
 "metadata": {
  "kernelspec": {
   "display_name": "Python 3",
   "language": "python",
   "name": "python3"
  },
  "language_info": {
   "codemirror_mode": {
    "name": "ipython",
    "version": 3
   },
   "file_extension": ".py",
   "mimetype": "text/x-python",
   "name": "python",
   "nbconvert_exporter": "python",
   "pygments_lexer": "ipython3",
   "version": "3.7.10"
  },
  "papermill": {
   "default_parameters": {},
   "duration": 123.923517,
   "end_time": "2021-08-03T14:31:54.189452",
   "environment_variables": {},
   "exception": null,
   "input_path": "__notebook__.ipynb",
   "output_path": "__notebook__.ipynb",
   "parameters": {},
   "start_time": "2021-08-03T14:29:50.265935",
   "version": "2.3.3"
  }
 },
 "nbformat": 4,
 "nbformat_minor": 5
}
